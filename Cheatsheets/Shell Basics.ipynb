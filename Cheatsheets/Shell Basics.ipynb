{
  "metadata": {
    "kernelspec": {
      "display_name": "Python 3.6",
      "name": "python36",
      "language": "python"
    },
    "language_info": {
      "mimetype": "text/x-python",
      "nbconvert_exporter": "python",
      "name": "python",
      "pygments_lexer": "ipython3",
      "version": "3.6.6",
      "file_extension": ".py",
      "codemirror_mode": {
        "version": 3,
        "name": "ipython"
      }
    }
  },
  "nbformat_minor": 2,
  "nbformat": 4,
  "cells": [
    {
      "cell_type": "markdown",
      "source": "# Shell Basics for Data Science",
      "metadata": {}
    },
    {
      "cell_type": "markdown",
      "source": "`cat data.txt | cut -d \"|\" -f 1 | sort -u | wc -l`",
      "metadata": {}
    },
    {
      "cell_type": "markdown",
      "source": "* Use the **cat** command to print/stream the contents of the file to *stdout*.\n* Pipe the streaming contents from our cat command to the next command **cut**.\n* The **cut** commands specify the delimiter **“|”** by the argument **-d** (Notice the semicolon around the pipe since we don’t want to use the pipe as a stream) and select the 1st column by the argument **-f** and stream the output to *stdout*.\n* Pipe the streaming content to the sort command which sorts the input and streams only the distinct values to the stdout. It takes the argument **-u** that specifies that we just need unique values.\n* Pipe the output to the **wc -l** command which counts the number of lines in the input.",
      "metadata": {}
    },
    {
      "cell_type": "markdown",
      "source": "[Source](https://towardsdatascience.com/shell-basics-every-data-scientist-should-know-3f012ef5c38c)",
      "metadata": {}
    }
  ]
}